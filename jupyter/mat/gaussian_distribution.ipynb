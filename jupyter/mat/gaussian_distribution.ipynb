{
 "cells": [
  {
   "cell_type": "markdown",
   "id": "2099f688",
   "metadata": {},
   "source": [
    "### Distribuicao Gaussiana/Normal\n",
    "\n",
    "##### A distribuicao gaussiana, ou normal, e uma continua distribuicao probabilistica simetrica em volta de uma media, zero.\n",
    "\n",
    "##### Ela e dada pela seguinte formula:\n",
    "\n",
    "$$\n",
    "f(x) = \\frac{1}{\\sigma \\sqrt{2\\pi}} \\, e^{\\frac{- (x - \\mu)^{2}}{2 \\sigma^{2}}}\n",
    "$$\n",
    "\n",
    "$\n",
    "\\text{Onde:}  \n",
    "$  \n",
    "\n",
    "$\n",
    "\\mu = \\text {Media de x}  \n",
    "$  \n",
    "\n",
    "$\n",
    "\\sigma = \\text{Desvio padrao}\n",
    "$"
   ]
  },
  {
   "cell_type": "markdown",
   "id": "8f59130a",
   "metadata": {},
   "source": [
    "#### Exemplo de questão: \n",
    "\n",
    "##### \"Usando a distribuicao gaussiana, qual a chance de um numero assumir o valor -100 caso sejam distribuidos 1e9 valores?\n",
    "\n"
   ]
  }
 ],
 "metadata": {
  "language_info": {
   "name": "python"
  }
 },
 "nbformat": 4,
 "nbformat_minor": 5
}
