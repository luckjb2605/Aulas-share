{
 "cells": [
  {
   "cell_type": "markdown",
   "id": "e221f6d0",
   "metadata": {},
   "source": [
    "# **Analise Combinatoria**"
   ]
  },
  {
   "cell_type": "markdown",
   "id": "7e90c8c9",
   "metadata": {},
   "source": [
    "## Exercicios da apostila pagina 41"
   ]
  },
  {
   "cell_type": "markdown",
   "id": "f31e4b88",
   "metadata": {},
   "source": [
    "##### 2) Quantos sao os resultados possiveis para o lancamento de uma moeda tres vezes? E 4 vezes? E n vezes?"
   ]
  },
  {
   "cell_type": "markdown",
   "id": "d36bac4a",
   "metadata": {},
   "source": [
    "Versao com numeros binarios:"
   ]
  },
  {
   "cell_type": "code",
   "execution_count": 1,
   "id": "f43f3427",
   "metadata": {},
   "outputs": [],
   "source": [
    "def resultados_possiveis(jogadas):\n",
    "    return 2 ** (jogadas)\n",
    "\n",
    "def combinacoes_possiveis(jogadas):\n",
    "\n",
    "    combinacoes = []\n",
    "    \n",
    "    for i in range(2**jogadas):\n",
    "\n",
    "        binario = bin(i)[2:].zfill(jogadas)    \n",
    "        \n",
    "        \"\"\"\n",
    "        [2:] deleta oque vem antes do termo de index 2. Esta ai pois o retorno normal do comando b(n)\n",
    "        e 0b(n em binario), onde 0b representa que o numero e binario. Portanto, com [2:], a parte\n",
    "        '0b' e deletada. \n",
    "\n",
    "        .zfill[jogadas] enche o resultado com zeros, para que sempre tenha o mesmo numero de casas (jogadas)\n",
    "\n",
    "        \"\"\"\n",
    "\n",
    "        combinacao = ' ,'.join(['Cara' if bit == '0' else 'Coroa' for bit in binario])\n",
    "\n",
    "        \"\"\"\n",
    "\n",
    "        ''.join[palavras] junta as palavras em uma corda so. se nao tiver nada entre '' vai juntar todas elas \n",
    "        juntas.\n",
    "        Por exemplo:\n",
    "        \n",
    "        test = [A, B, C]\n",
    "        juntando_a_b_c = ''.join[test] \n",
    "\n",
    "        output: \n",
    "\n",
    "        ABC\n",
    "\n",
    "        \"\"\"\n",
    "\n",
    "        combinacoes.append(combinacao)\n",
    "\n",
    "    return combinacoes\n",
    "\n",
    "combinacoes_3 = []\n",
    "\n",
    "'''\n",
    "\n",
    " 1 em enumerate significa que comeca no 1, e nao no 0\n",
    " \n",
    " :2 significa que independente de quantos algarismos tiver, vai ocupar dois espacos. '5' -> ' 5'\n",
    " \n",
    " d significa que o output sera um numero inteiro. 5.0 -> 5\n",
    "\n",
    " '''\n",
    "\n",
    "print()\n",
    "print(f'Ao jogar 3 moedas, haverao {resultados_possiveis(3)} diferentes modos de organiza-las. '\n",
    "      'Sendo eles:')\n",
    "print()\n",
    "for i, combinacao in enumerate(combinacoes_possiveis(3), 1):\n",
    "    print(f'{i:2d}. {combinacao}')\n",
    "\n",
    "print()\n",
    "print(f'Ao jogar 4 moedas, haverao {resultados_possiveis(4)} diferentes modos de organiza-las. ',\n",
    "      'Sendo eles:')\n",
    "print()\n",
    "for i, combinacao in enumerate(combinacoes_possiveis(4), 1):\n",
    "    print(f'{i:2d}. {combinacao}')\n",
    "\n",
    "print()\n",
    "print('Para n moedas, o numero de combinacoes possiveis sera sempre 2**n.')\n",
    "print()\n",
    "\n",
    "'''\n",
    "Ao inves de:\n",
    "\n",
    "print()\n",
    "print(print)\n",
    "\n",
    "E possivel usar:\n",
    "\n",
    "print('', print, sep='\\n')\n",
    "\n",
    "'''"
   ]
  },
  {
   "cell_type": "markdown",
   "id": "84e9323e",
   "metadata": {},
   "source": [
    "Alternativa com Recursao"
   ]
  },
  {
   "cell_type": "code",
   "execution_count": 2,
   "id": "abee420e",
   "metadata": {},
   "outputs": [],
   "source": [
    "def combinacoes(jogadas):\n",
    "\n",
    "    if jogadas == 0:\n",
    "        return ['']\n",
    "    \n",
    "    combinacoes_anteriores = combinacoes(jogadas - 1)       # Para c(1), combinacoes_anteriores = ''\n",
    "#                                                    Para c(2), combinacoes_anteriores = novas_combinacoes(1)\n",
    "    novas_combinacoes = []                          # ^> = 'Cara' e 'Coroa'\n",
    "\n",
    "    for combinacao in combinacoes_anteriores:\n",
    "        prefixo = ', ' if combinacoes else ''\n",
    "        novas_combinacoes.append(combinacao + 'Cara' + prefixo)       # Para c(1), '' + 'Cara' e '' + 'Coroa'\n",
    "        novas_combinacoes.append(combinacao + 'Coroa' + prefixo)      # Para c(2), 'Cara' + 'Cara', 'Cara' + 'Coroa', \n",
    "#                                                              'Coroa' + 'Cara' e 'Coroa' + 'Coroa'\n",
    "    return novas_combinacoes\n",
    "\n",
    "    '''\n",
    "    Para combinacoes(1) -> o loop vai retornar '' + Cara e '' + Coroa \n",
    "    \n",
    "    Para combinacoes(2) -> o loop vai retornar Cara + Cara, Cara + Coroa, Coroa + Cara e Coroa + Coroa. \n",
    "\n",
    "    E assim por diante!\n",
    "    \n",
    "    '''\n",
    "\n",
    "print('', f'Para as 3 moedas, as {resultados_possiveis(3)} combinacoes serao:', '', sep='\\n')\n",
    "\n",
    "for i, combinacao in enumerate(combinacoes(3), 1):\n",
    "    print(f' {i:2d}. {combinacao}')\n",
    "\n",
    "print('', f'Para as 4 moedas, as {resultados_possiveis(4)} combinacoes serao:', '', sep='\\n')\n",
    "\n",
    "for i, combinacao in enumerate(combinacoes(4), 1):\n",
    "    print(f' {i:2d}. {combinacao}')\n",
    "    if i == len(combinacoes(4)):\n",
    "        print()\n",
    "\n",
    "'''\n",
    "\n",
    "Ao inves de {resultados_possiveis()}, pode-se usar {len(combinacoes())}\n",
    "\n",
    "'''"
   ]
  },
  {
   "cell_type": "markdown",
   "id": "a32cea22",
   "metadata": {},
   "source": [
    "Abordagem Iterativa sem recursao"
   ]
  },
  {
   "cell_type": "code",
   "execution_count": 3,
   "id": "f17df40e",
   "metadata": {},
   "outputs": [],
   "source": [
    "n = int(input('Quantas moedas serao lancadas?'))\n",
    "\n",
    "def combinacoes(n):\n",
    "\n",
    "    combinacoes = ['']\n",
    "\n",
    "    for _ in range(n):\n",
    "        novas_combinacoes = []\n",
    "        for combinacao in combinacoes:\n",
    "            prefixo = ', ' if combinacao else ''\n",
    "            novas_combinacoes.append(combinacao + prefixo + 'Cara')\n",
    "            novas_combinacoes.append(combinacao + prefixo + 'Coroa')\n",
    "        combinacoes = novas_combinacoes\n",
    "\n",
    "    return combinacoes\n",
    "\n",
    "print('', f'Ao lancar {n} moedas, haverao {len(combinacoes(n))} combinacoes possiveis.', '', sep='\\n')\n",
    "\n",
    "for i, numero in enumerate(combinacoes(n), 1):\n",
    "    print(f' {i:2d}. {numero}')\n",
    "    if i == len(combinacoes(n)):\n",
    "        print()"
   ]
  }
 ],
 "metadata": {
  "kernelspec": {
   "display_name": "Python 3",
   "language": "python",
   "name": "python3"
  },
  "language_info": {
   "codemirror_mode": {
    "name": "ipython",
    "version": 3
   },
   "file_extension": ".py",
   "mimetype": "text/x-python",
   "name": "python",
   "nbconvert_exporter": "python",
   "pygments_lexer": "ipython3",
   "version": "3.13.7"
  }
 },
 "nbformat": 4,
 "nbformat_minor": 5
}
