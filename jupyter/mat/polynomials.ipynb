{
 "cells": [
  {
   "cell_type": "code",
   "execution_count": 3,
   "id": "7688afed",
   "metadata": {},
   "outputs": [],
   "source": [
    "import sympy as sym\n",
    "from IPython.display import display, Math"
   ]
  },
  {
   "cell_type": "code",
   "execution_count": 4,
   "id": "1bf9243a",
   "metadata": {},
   "outputs": [
    {
     "data": {
      "text/latex": [
       "$\\displaystyle (2 x^{3} + x^{2} + x) + (- x^{4} + x^{3} - 4 x^{2}) = - x^{4} + 3 x^{3} - 3 x^{2} + x$"
      ],
      "text/plain": [
       "<IPython.core.display.Math object>"
      ]
     },
     "metadata": {},
     "output_type": "display_data"
    }
   ],
   "source": [
    "from sympy.abc import x\n",
    "\n",
    "p1 = 2*x**3 + x**2 + x\n",
    "p2 = x**3 - x**4 - 4*x**2 \n",
    "\n",
    "display(Math(\"(%s) + (%s) = %s\" %(sym.latex(p1), sym.latex(p2), sym.latex(p1+p2))))"
   ]
  },
  {
   "cell_type": "code",
   "execution_count": 5,
   "id": "4564cc93",
   "metadata": {},
   "outputs": [
    {
     "name": "stdout",
     "output_type": "stream",
     "text": [
      "Poly(2*x**3 + x**2 + x, x, domain='ZZ')\n"
     ]
    }
   ],
   "source": [
    "p1 = sym.Poly(2*x**3 + x**2 + x)\n",
    "\n",
    "print(p1)"
   ]
  },
  {
   "cell_type": "code",
   "execution_count": 6,
   "id": "6b46f9b5",
   "metadata": {},
   "outputs": [
    {
     "data": {
      "text/latex": [
       "$\\displaystyle 66$"
      ],
      "text/plain": [
       "66"
      ]
     },
     "execution_count": 6,
     "metadata": {},
     "output_type": "execute_result"
    }
   ],
   "source": [
    "p1.eval(3)"
   ]
  },
  {
   "cell_type": "code",
   "execution_count": 7,
   "id": "28460ae8",
   "metadata": {},
   "outputs": [
    {
     "name": "stdout",
     "output_type": "stream",
     "text": [
      "Como o grau do polinomio x**2 + 2*x e par, a soma dos coeficientes e: 3\n",
      "Como o grau do polinomio -x**3 + 4*x e impar, o numero de coeficientes e: 2\n",
      "Como o grau do polinomio x**5 - x**4 + x/4 + 4 e impar, o numero de coeficientes e: 4\n"
     ]
    }
   ],
   "source": [
    "list = [ sym.Poly(x**2 + 2*x) , sym.Poly(-x**3 + 4*x) , sym.Poly(x**5 - x**4 + x/4 + 4)]\n",
    "for poli in list:\n",
    "    if poli.degree()%2==0: #mesma coisa que np.mod(poli.degree(), 2)==0\n",
    "        print('Como o grau do polinomio %s e par, a soma dos coeficientes e: %g' %(poli.as_expr(), sum(poli.coeffs())))\n",
    "    else:\n",
    "        print('Como o grau do polinomio %s e impar, o numero de coeficientes e: %g' %(poli.as_expr(), len(poli.coeffs())))"
   ]
  },
  {
   "cell_type": "code",
   "execution_count": null,
   "id": "c7ad1e6d",
   "metadata": {},
   "outputs": [],
   "source": []
  }
 ],
 "metadata": {
  "kernelspec": {
   "display_name": "Python 3",
   "language": "python",
   "name": "python3"
  },
  "language_info": {
   "codemirror_mode": {
    "name": "ipython",
    "version": 3
   },
   "file_extension": ".py",
   "mimetype": "text/x-python",
   "name": "python",
   "nbconvert_exporter": "python",
   "pygments_lexer": "ipython3",
   "version": "3.13.7"
  }
 },
 "nbformat": 4,
 "nbformat_minor": 5
}
