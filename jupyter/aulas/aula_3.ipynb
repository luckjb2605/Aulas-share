{
 "cells": [
  {
   "cell_type": "markdown",
   "id": "e54c6b99",
   "metadata": {},
   "source": [
    "# Problems\n",
    "\n",
    "The equation for the height of a thrown ball is:\n",
    "$$\n",
    "y = -\\frac{1}{2} g t^2 + v_0 t\n",
    "$$\n",
    "where:\n",
    "- \\( t \\) is time,\n",
    "- \\( y \\) is the height of the ball,\n",
    "- \\( v_0 \\) is the initial upward speed,\n",
    "- \\( g \\) is gravity.\n",
    "\n",
    "Jim throws his ball at 10m/s, and Mark throws his at 15m/s upward. Plot the height of each of their balls as a function of time from 0 to 2 seconds."
   ]
  },
  {
   "cell_type": "code",
   "execution_count": 35,
   "id": "b0e1ae51",
   "metadata": {},
   "outputs": [
    {
     "data": {
      "text/plain": [
       "Text(0, 0.5, 'Height (m)')"
      ]
     },
     "execution_count": 35,
     "metadata": {},
     "output_type": "execute_result"
    },
    {
     "data": {
      "image/png": "[encoded data removed]",
      "text/plain": [
       "<Figure size 640x480 with 1 Axes>"
      ]
     },
     "metadata": {},
     "output_type": "display_data"
    }
   ],
   "source": [
    "import sympy as smp\n",
    "import matplotlib.pyplot as plt\n",
    "import numpy as np\n",
    "\n",
    "t = np.linspace(0, 2, 100)\n",
    "v0_J = 10\n",
    "v0_M = 15\n",
    "g = 9.81\n",
    "\n",
    "y_J = -1/2 * g * t**2 + v0_J * t\n",
    "y_M = -1/2 * g * t**2 + v0_M * t\n",
    "\n",
    "Plot_J = plt.plot(t, y_J, 'b--', label = 'Jim')\n",
    "Plot_M = plt.plot(t, y_M, 'r-.', label = 'Mark')\n",
    "\n",
    "plt.grid()\n",
    "plt.legend()\n",
    "plt.xlabel('Time (s)')\n",
    "plt.ylabel('Height (m)')"
   ]
  },
  {
   "cell_type": "markdown",
   "id": "45d30ebd",
   "metadata": {},
   "source": [
    "### Problem 2:\n",
    "\n",
    "The poem below is organized such that each poem line is a new element in the list\n",
    "\n",
    "poem = ['when day comes we ask ourselves,',\\\n",
    "       'where can we find light in this never-ending shade?',\\\n",
    "       'the loss we carry,',\\\n",
    "       'a sea we must wade',\\\n",
    "       \"we've braved the belly of the beast\",\\\n",
    "       \"we've learned that quiet isn't always peace\",\\\n",
    "       \"and the norms and notions\",\\\n",
    "       \"of what just is\"]\n",
    "\n",
    "Loop through the lines of the poem, and if the line contains the substring 'we', then print 'line __ contains we' where '__' is the line number."
   ]
  },
  {
   "cell_type": "code",
   "execution_count": 36,
   "id": "b69f5ea3",
   "metadata": {},
   "outputs": [
    {
     "name": "stdout",
     "output_type": "stream",
     "text": [
      "line 0 contains we\n",
      "line 1 contains we\n",
      "line 2 contains we\n",
      "line 3 contains we\n",
      "line 4 contains we\n",
      "line 5 contains we\n"
     ]
    }
   ],
   "source": [
    "poem = ['when day comes we ask ourselves,',\\\n",
    "       'where can we find light in this never-ending shade?',\\\n",
    "       'the loss we carry,',\\\n",
    "       'a sea we must wade',\\\n",
    "       \"we've braved the belly of the beast\",\\\n",
    "       \"we've learned that quiet isn't always peace\",\\\n",
    "       \"and the norms and notions\",\\\n",
    "       \"of what just is\"]\n",
    "\n",
    "for i, line in enumerate(poem):\n",
    "    if 'we' in line:\n",
    "        print('line {} contains we' .format(i))"
   ]
  },
  {
   "cell_type": "markdown",
   "id": "f99a922c",
   "metadata": {},
   "source": [
    "### Problem 3:\n",
    "\n",
    "Add up every number from 1 to 999999, except for those that can be divided by 4, and those that can be divided by 6"
   ]
  },
  {
   "cell_type": "code",
   "execution_count": 37,
   "id": "b5a17274",
   "metadata": {},
   "outputs": [
    {
     "data": {
      "text/plain": [
       "333333666666"
      ]
     },
     "execution_count": 37,
     "metadata": {},
     "output_type": "execute_result"
    }
   ],
   "source": [
    "lst=[]\n",
    "\n",
    "for number in range(1, 1000000):\n",
    "    if not number%4 == 0 and not number%6 == 0:\n",
    "        lst.append(number)\n",
    "\n",
    "sum(lst)"
   ]
  },
  {
   "cell_type": "code",
   "execution_count": 38,
   "id": "77687b68",
   "metadata": {},
   "outputs": [
    {
     "data": {
      "text/plain": [
       "333333666666"
      ]
     },
     "execution_count": 38,
     "metadata": {},
     "output_type": "execute_result"
    }
   ],
   "source": [
    "#Outro jeito (video)\n",
    "\n",
    "summation = 0\n",
    "for i in range(1,1000000):\n",
    "    if not i%4 == 0 and not i%6 == 0:\n",
    "        summation = summation + i\n",
    "\n",
    "summation"
   ]
  }
 ],
 "metadata": {
  "kernelspec": {
   "display_name": "Python 3",
   "language": "python",
   "name": "python3"
  },
  "language_info": {
   "codemirror_mode": {
    "name": "ipython",
    "version": 3
   },
   "file_extension": ".py",
   "mimetype": "text/x-python",
   "name": "python",
   "nbconvert_exporter": "python",
   "pygments_lexer": "ipython3",
   "version": "3.13.7"
  }
 },
 "nbformat": 4,
 "nbformat_minor": 5
}
