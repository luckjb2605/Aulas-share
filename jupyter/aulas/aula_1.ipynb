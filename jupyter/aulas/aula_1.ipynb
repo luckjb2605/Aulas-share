{
 "cells": [
  {
   "cell_type": "markdown",
   "id": "565be14d",
   "metadata": {},
   "source": [
    "# Jupyter lab\n",
    "\n",
    "Tutorial: [O Link tambem pode estar no italico ou negrito](https://www.youtube.com/playlist?list=PLkdGijFCNuVmiZM7NX_bnR6A5oFyimf-z)\n",
    "\n",
    "Importando sympy... Fazendo com que os outputs sejam latex."
   ]
  },
  {
   "cell_type": "code",
   "execution_count": 21,
   "id": "59fb8238",
   "metadata": {},
   "outputs": [],
   "source": [
    "import sympy as smp\n",
    "smp.init_printing(use_latex=True)"
   ]
  },
  {
   "cell_type": "markdown",
   "id": "4ade30c8",
   "metadata": {},
   "source": [
    "Testando o output e simbolos. Olhe o markdown para ver tambem o formatamento."
   ]
  },
  {
   "cell_type": "code",
   "execution_count": 22,
   "id": "75e60e1d",
   "metadata": {},
   "outputs": [
    {
     "data": {
      "image/png": "[encoded data removed]",
      "text/latex": [
       "$\\displaystyle x^{2} + y$"
      ],
      "text/plain": [
       " 2    \n",
       "x  + y"
      ]
     },
     "execution_count": 22,
     "metadata": {},
     "output_type": "execute_result"
    }
   ],
   "source": [
    "x, y = smp.symbols('x y')\n",
    "\n",
    "f = x**2 + y\n",
    "\n",
    "f"
   ]
  },
  {
   "cell_type": "markdown",
   "id": "eaece54e",
   "metadata": {},
   "source": [
    "Testando a inclusao de texto em uma string, alem do arredondamento por casas decimais. "
   ]
  },
  {
   "cell_type": "code",
   "execution_count": 2,
   "id": "b4960bba",
   "metadata": {},
   "outputs": [
    {
     "name": "stdout",
     "output_type": "stream",
     "text": [
      "\n",
      "Eu tenho 17.1313131313 anos\n",
      "\n",
      "Eu tenho 17.13 anos\n",
      "\n",
      "Eu tenho 17 anos\n",
      "\n",
      "Eu tenho 17 anos\n"
     ]
    }
   ],
   "source": [
    "idade = 17.1313131313\n",
    "\n",
    "print()\n",
    "print('Eu tenho {} anos' .format(idade))\n",
    "print()\n",
    "print('Eu tenho {:.2f} anos' .format(idade))\n",
    "print()\n",
    "print('Eu tenho {:.0f} anos' .format(idade))\n",
    "print()\n",
    "\n",
    "#Com f string\n",
    "\n",
    "print(f'Eu tenho {idade:.0f} anos')\n"
   ]
  },
  {
   "cell_type": "markdown",
   "id": "382b8c8b",
   "metadata": {},
   "source": [
    "## Lista, tuple, dict e array."
   ]
  },
  {
   "cell_type": "markdown",
   "id": "a0c71ca0",
   "metadata": {},
   "source": [
    "### Lista: \n",
    "\n",
    "Append = Adicionar"
   ]
  },
  {
   "cell_type": "code",
   "execution_count": 24,
   "id": "5f656c04",
   "metadata": {},
   "outputs": [
    {
     "name": "stdout",
     "output_type": "stream",
     "text": [
      "\n",
      "['cachorro', 'gato', ['vaca', 'cavalo'], 'elefante']\n",
      "\n",
      "['pato', 'peixe', 'sapo', 'golfinho', 'ta me vendoooooooooooooooooooo?']\n",
      "\n",
      "['cachorro', 'gato', ['vaca', 'cavalo'], 'elefante', 'pato', 'peixe', 'sapo', 'golfinho', 'ta me vendoooooooooooooooooooo?']\n"
     ]
    }
   ],
   "source": [
    "x = ['cachorro', 'gato', ['vaca', 'cavalo']]\n",
    "y = ['pato', 'peixe', 'sapo', 'golfinho']\n",
    "\n",
    "x.append('elefante')\n",
    "y.append('ta me vendoooooooooooooooooooo?')\n",
    "\n",
    "print()\n",
    "print(x)\n",
    "print()\n",
    "print(y)\n",
    "print()\n",
    "print(x+y)"
   ]
  },
  {
   "cell_type": "markdown",
   "id": "c090f320",
   "metadata": {},
   "source": [
    "Operadores mexem com o numero de itens, e nao com seus valores."
   ]
  },
  {
   "cell_type": "code",
   "execution_count": 25,
   "id": "10a1ab30",
   "metadata": {},
   "outputs": [
    {
     "data": {
      "text/plain": [
       "['cachorro',\n",
       " 'gato',\n",
       " ['vaca', 'cavalo'],\n",
       " 'elefante',\n",
       " 'cachorro',\n",
       " 'gato',\n",
       " ['vaca', 'cavalo'],\n",
       " 'elefante']"
      ]
     },
     "execution_count": 25,
     "metadata": {},
     "output_type": "execute_result"
    }
   ],
   "source": [
    "x*2"
   ]
  },
  {
   "cell_type": "markdown",
   "id": "5794641c",
   "metadata": {},
   "source": [
    "Lista dentro de lista:"
   ]
  },
  {
   "cell_type": "code",
   "execution_count": 26,
   "id": "a38000aa",
   "metadata": {},
   "outputs": [
    {
     "data": {
      "text/plain": [
       "('cachorro', ['vaca', 'cavalo'], 'cavalo')"
      ]
     },
     "execution_count": 26,
     "metadata": {},
     "output_type": "execute_result"
    }
   ],
   "source": [
    "x[0], x[2], x[2][1]"
   ]
  },
  {
   "cell_type": "markdown",
   "id": "a33f2b41",
   "metadata": {},
   "source": [
    "Em um tuple, voce nao consegue mudar os valores de cada item. Em uma lista comum, voce consegue. \n",
    "\n",
    "### Dict (Dictionary) Chave -> Item --> -->"
   ]
  },
  {
   "cell_type": "code",
   "execution_count": 27,
   "id": "207df732",
   "metadata": {},
   "outputs": [
    {
     "data": {
      "text/plain": [
       "'felino'"
      ]
     },
     "execution_count": 27,
     "metadata": {},
     "output_type": "execute_result"
    }
   ],
   "source": [
    "z = {'gato':'felino', 'cachorro':'canino'}\n",
    "\n",
    "z['gato']"
   ]
  },
  {
   "cell_type": "markdown",
   "id": "4a8ac822",
   "metadata": {},
   "source": [
    "### Array (Numpy)"
   ]
  },
  {
   "cell_type": "code",
   "execution_count": 28,
   "id": "57502ff6",
   "metadata": {},
   "outputs": [
    {
     "name": "stdout",
     "output_type": "stream",
     "text": [
      "\n",
      "[2 3 4 5 6]\n",
      "\n",
      "[ 2  4  6  8 10]\n",
      "\n",
      "[ 1  4  9 16 25]\n",
      "\n",
      "[  8  27  64 125 216]\n",
      "\n",
      "[1.         0.5        0.33333333 0.25       0.2       ]\n"
     ]
    }
   ],
   "source": [
    "import numpy as np\n",
    "\n",
    "x = np.array([1, 2, 3, 4, 5])\n",
    "\n",
    "print()\n",
    "print(x+1)\n",
    "print()\n",
    "print(x*2)\n",
    "print()\n",
    "print(x**2)\n",
    "print()\n",
    "print((x+1)**3)\n",
    "print()\n",
    "print(1/x)"
   ]
  },
  {
   "cell_type": "markdown",
   "id": "4dce906d",
   "metadata": {},
   "source": [
    "Uma array pode ser feita por linspace ou arange.\n",
    "\n",
    "**linspace** divide a range igualmente em n partes.  \n",
    "**arange** divide a range em espacamentos de n tamanho."
   ]
  },
  {
   "cell_type": "code",
   "execution_count": 29,
   "id": "f04c4c38",
   "metadata": {},
   "outputs": [
    {
     "data": {
      "text/plain": [
       "(array([ 0.        ,  0.52631579,  1.05263158,  1.57894737,  2.10526316,\n",
       "         2.63157895,  3.15789474,  3.68421053,  4.21052632,  4.73684211,\n",
       "         5.26315789,  5.78947368,  6.31578947,  6.84210526,  7.36842105,\n",
       "         7.89473684,  8.42105263,  8.94736842,  9.47368421, 10.        ]),\n",
       " array([  0.        ,  11.11111111,  22.22222222,  33.33333333,\n",
       "         44.44444444,  55.55555556,  66.66666667,  77.77777778,\n",
       "         88.88888889, 100.        ]),\n",
       " array([  0, 100, 200, 300, 400, 500, 600, 700, 800, 900]),\n",
       " array([ 0, 20, 40, 60, 80]))"
      ]
     },
     "execution_count": 29,
     "metadata": {},
     "output_type": "execute_result"
    }
   ],
   "source": [
    "x = np.linspace(0, 10, 20,)\n",
    "y = np.linspace(0, 100, 10)\n",
    "\n",
    "x_1 = np.arange(0,1000, 100)\n",
    "y_2 = np.arange(0, 100, 20)\n",
    "\n",
    "x, y, x_1, y_2"
   ]
  },
  {
   "cell_type": "markdown",
   "id": "3899a9a8",
   "metadata": {},
   "source": [
    "Aplicacao: Plots"
   ]
  },
  {
   "cell_type": "code",
   "execution_count": 30,
   "id": "1c509dd2",
   "metadata": {},
   "outputs": [
    {
     "data": {
      "text/plain": [
       "Text(0.5, 1.0, 'Plot teste')"
      ]
     },
     "execution_count": 30,
     "metadata": {},
     "output_type": "execute_result"
    },
    {
     "data": {
      "image/png": "[encoded data removed]",
      "text/plain": [
       "<Figure size 640x480 with 1 Axes>"
      ]
     },
     "metadata": {},
     "output_type": "display_data"
    }
   ],
   "source": [
    "import matplotlib.pyplot as plt\n",
    "\n",
    "x = np.linspace(0, 1, 20)\n",
    "y = x**2\n",
    "\n",
    "plt.plot(x, y, 'ro-.')\n",
    "plt.xlabel('Abscissas')\n",
    "plt.ylabel('Coordenadas')\n",
    "plt.title('Plot teste')"
   ]
  }
 ],
 "metadata": {
  "kernelspec": {
   "display_name": "Python 3",
   "language": "python",
   "name": "python3"
  },
  "language_info": {
   "codemirror_mode": {
    "name": "ipython",
    "version": 3
   },
   "file_extension": ".py",
   "mimetype": "text/x-python",
   "name": "python",
   "nbconvert_exporter": "python",
   "pygments_lexer": "ipython3",
   "version": "3.13.7"
  }
 },
 "nbformat": 4,
 "nbformat_minor": 5
}
