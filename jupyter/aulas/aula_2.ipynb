{
 "cells": [
  {
   "cell_type": "markdown",
   "id": "7ba49715",
   "metadata": {},
   "source": [
    "# **Loops!**\n",
    "\n",
    "##### 1. Regular:"
   ]
  },
  {
   "cell_type": "code",
   "execution_count": 1,
   "id": "72c959ac",
   "metadata": {},
   "outputs": [
    {
     "name": "stdout",
     "output_type": "stream",
     "text": [
      "0\n",
      "1\n",
      "2\n",
      "3\n",
      "4\n"
     ]
    }
   ],
   "source": [
    "for i in range(5):\n",
    "    print(i)"
   ]
  },
  {
   "cell_type": "code",
   "execution_count": 32,
   "id": "f18acc03",
   "metadata": {},
   "outputs": [
    {
     "data": {
      "text/plain": [
       "[1, 4, 9, 16, 25]"
      ]
     },
     "execution_count": 32,
     "metadata": {},
     "output_type": "execute_result"
    }
   ],
   "source": [
    "n = int(input('A lista apresentara o quadrado dos tais primeiros numeros:'))\n",
    "\n",
    "lst=[]\n",
    "for i in range(n+1): #Lembre sempre do +1 / Tambem poderia ter usado range(1, n+1), ao inves do if.\n",
    "    if i != 0:\n",
    "        lst.append(i**2)\n",
    "\n",
    "lst"
   ]
  },
  {
   "cell_type": "markdown",
   "id": "32fa83cb",
   "metadata": {},
   "source": [
    "##### 2. List Loop!"
   ]
  },
  {
   "cell_type": "code",
   "execution_count": 1,
   "id": "174c2b36",
   "metadata": {},
   "outputs": [
    {
     "name": "stdout",
     "output_type": "stream",
     "text": [
      "cachorro\n",
      "gato\n",
      "canguru\n"
     ]
    }
   ],
   "source": [
    "list = ['cachorro', 'gato', 'canguru']\n",
    "\n",
    "for item in list:\n",
    "    print(item)"
   ]
  },
  {
   "cell_type": "markdown",
   "id": "6b7ded5e",
   "metadata": {},
   "source": [
    "##### 3. Enumeration Loop"
   ]
  },
  {
   "cell_type": "code",
   "execution_count": 4,
   "id": "f8995bfb",
   "metadata": {},
   "outputs": [
    {
     "name": "stdout",
     "output_type": "stream",
     "text": [
      "\n",
      "Index de numero 0 contem o item cachorro\n",
      "\n",
      "Index de numero 1 contem o item gato\n",
      "\n",
      "Index de numero 2 contem o item canguru\n"
     ]
    }
   ],
   "source": [
    "list = ['cachorro', 'gato', 'canguru']\n",
    "\n",
    "for i, item in enumerate(list):\n",
    "    print()\n",
    "    print('Index de numero {} contem o item {}' .format(i, item))"
   ]
  },
  {
   "cell_type": "markdown",
   "id": "43b652c3",
   "metadata": {},
   "source": [
    "##### 4. List Comprehension Loop"
   ]
  },
  {
   "cell_type": "code",
   "execution_count": 11,
   "id": "1f18280c",
   "metadata": {},
   "outputs": [
    {
     "data": {
      "text/plain": [
       "[1, 8, 27]"
      ]
     },
     "execution_count": 11,
     "metadata": {},
     "output_type": "execute_result"
    }
   ],
   "source": [
    "n = int(input('Cubo de quais primeiros numeros?'))\n",
    "\n",
    "lst = [i**3 for i in range(1, n+1)]\n",
    "\n",
    "lst"
   ]
  },
  {
   "cell_type": "markdown",
   "id": "0dbdd03d",
   "metadata": {},
   "source": [
    "##### 5. Double For Loop"
   ]
  },
  {
   "cell_type": "code",
   "execution_count": 14,
   "id": "0f9cc8eb",
   "metadata": {},
   "outputs": [
    {
     "name": "stdout",
     "output_type": "stream",
     "text": [
      "i = 0 j = 0\n",
      "i = 0 j = 1\n",
      "i = 0 j = 2\n",
      "i = 1 j = 0\n",
      "i = 1 j = 1\n",
      "i = 1 j = 2\n",
      "i = 2 j = 0\n",
      "i = 2 j = 1\n",
      "i = 2 j = 2\n"
     ]
    }
   ],
   "source": [
    "for i in range (3):\n",
    "    for j in range(3):\n",
    "        print('i = {} j = {}' .format(i, j))"
   ]
  },
  {
   "cell_type": "markdown",
   "id": "c0f46fa2",
   "metadata": {},
   "source": [
    "# **\"Booleans\" e \"If statements\"**"
   ]
  },
  {
   "cell_type": "code",
   "execution_count": 15,
   "id": "0d5a969c",
   "metadata": {},
   "outputs": [],
   "source": [
    "#Booleans -> True , False (Letra Maiuscula!)\n",
    "\n",
    "a = True\n",
    "b = False"
   ]
  },
  {
   "cell_type": "code",
   "execution_count": 17,
   "id": "967c5954",
   "metadata": {},
   "outputs": [
    {
     "data": {
      "text/plain": [
       "True"
      ]
     },
     "execution_count": 17,
     "metadata": {},
     "output_type": "execute_result"
    }
   ],
   "source": [
    "a or b #um deles e true, entao o output sera true."
   ]
  },
  {
   "cell_type": "code",
   "execution_count": 18,
   "id": "71ab5c94",
   "metadata": {},
   "outputs": [
    {
     "data": {
      "text/plain": [
       "False"
      ]
     },
     "execution_count": 18,
     "metadata": {},
     "output_type": "execute_result"
    }
   ],
   "source": [
    "a and b #os dois teriam que ser true para o output ser true. por tanto, sera false."
   ]
  },
  {
   "cell_type": "code",
   "execution_count": 19,
   "id": "27159065",
   "metadata": {},
   "outputs": [
    {
     "data": {
      "text/plain": [
       "True"
      ]
     },
     "execution_count": 19,
     "metadata": {},
     "output_type": "execute_result"
    }
   ],
   "source": [
    "not b #inverso de b = inverso de false = true."
   ]
  },
  {
   "cell_type": "code",
   "execution_count": 20,
   "id": "0fa9843b",
   "metadata": {},
   "outputs": [
    {
     "data": {
      "text/plain": [
       "True"
      ]
     },
     "execution_count": 20,
     "metadata": {},
     "output_type": "execute_result"
    }
   ],
   "source": [
    "a and not b #a = true, not b = true. Os dois sao true, entao output e true tambem!"
   ]
  },
  {
   "cell_type": "code",
   "execution_count": 21,
   "id": "3627e104",
   "metadata": {},
   "outputs": [
    {
     "name": "stdout",
     "output_type": "stream",
     "text": [
      "sim!\n"
     ]
    }
   ],
   "source": [
    "if a:\n",
    "    print('sim!')"
   ]
  },
  {
   "cell_type": "code",
   "execution_count": 34,
   "id": "020fa25c",
   "metadata": {},
   "outputs": [],
   "source": [
    "if b:\n",
    "    print('sim!') #b e false entao nao executa."
   ]
  },
  {
   "cell_type": "code",
   "execution_count": 35,
   "id": "fe5884c2",
   "metadata": {},
   "outputs": [
    {
     "name": "stdout",
     "output_type": "stream",
     "text": [
      "nao!\n"
     ]
    }
   ],
   "source": [
    "if b:\n",
    "    print('sim!')\n",
    "else:\n",
    "    print('nao!')"
   ]
  },
  {
   "cell_type": "code",
   "execution_count": 24,
   "id": "049eb24d",
   "metadata": {},
   "outputs": [
    {
     "data": {
      "text/plain": [
       "True"
      ]
     },
     "execution_count": 24,
     "metadata": {},
     "output_type": "execute_result"
    }
   ],
   "source": [
    "a or b"
   ]
  },
  {
   "cell_type": "code",
   "execution_count": 25,
   "id": "58f25fa7",
   "metadata": {},
   "outputs": [
    {
     "data": {
      "text/plain": [
       "True"
      ]
     },
     "execution_count": 25,
     "metadata": {},
     "output_type": "execute_result"
    }
   ],
   "source": [
    "c = a or b\n",
    "c"
   ]
  },
  {
   "cell_type": "code",
   "execution_count": 26,
   "id": "88f287b4",
   "metadata": {},
   "outputs": [
    {
     "name": "stdout",
     "output_type": "stream",
     "text": [
      "Verdade!!!\n"
     ]
    }
   ],
   "source": [
    "d = c and not b\n",
    "\n",
    "if d:\n",
    "    print('Verdade!!!')"
   ]
  },
  {
   "cell_type": "code",
   "execution_count": 31,
   "id": "ba7808aa",
   "metadata": {},
   "outputs": [
    {
     "name": "stdout",
     "output_type": "stream",
     "text": [
      "\n",
      "Zero e igual a 0? True\n",
      "\n",
      "Zero e igual a 1? False\n"
     ]
    }
   ],
   "source": [
    "zero = 0\n",
    "\n",
    "print()\n",
    "print('Zero e igual a 0? {}' .format(zero == 0))\n",
    "print()\n",
    "print('Zero e igual a 1? {}' .format(zero == 1))"
   ]
  },
  {
   "cell_type": "code",
   "execution_count": 37,
   "id": "87a10383",
   "metadata": {},
   "outputs": [
    {
     "name": "stdout",
     "output_type": "stream",
     "text": [
      "Zero nao e igual a 1!\n"
     ]
    }
   ],
   "source": [
    "if zero!=1:\n",
    "    print('Zero nao e igual a 1!')"
   ]
  },
  {
   "cell_type": "code",
   "execution_count": 38,
   "id": "6e3800f1",
   "metadata": {},
   "outputs": [
    {
     "name": "stdout",
     "output_type": "stream",
     "text": [
      "deboa!\n"
     ]
    }
   ],
   "source": [
    "um = 1\n",
    "\n",
    "if zero==0 and um==1:\n",
    "    print('deboa!')"
   ]
  },
  {
   "cell_type": "code",
   "execution_count": 39,
   "id": "875557d7",
   "metadata": {},
   "outputs": [
    {
     "data": {
      "text/plain": [
       "True"
      ]
     },
     "execution_count": 39,
     "metadata": {},
     "output_type": "execute_result"
    }
   ],
   "source": [
    "'at' in 'gato'"
   ]
  },
  {
   "cell_type": "code",
   "execution_count": 42,
   "id": "e08f7fc9",
   "metadata": {},
   "outputs": [
    {
     "name": "stdout",
     "output_type": "stream",
     "text": [
      "Tem \"at\" na palavra \"gato\"? Sim!\n"
     ]
    }
   ],
   "source": [
    "if 'at' in 'gato':\n",
    "    print('Tem \"at\" na palavra \"gato\"? {}' .format('Sim!'))"
   ]
  },
  {
   "cell_type": "code",
   "execution_count": 43,
   "id": "a6f4d7a2",
   "metadata": {},
   "outputs": [
    {
     "name": "stdout",
     "output_type": "stream",
     "text": [
      "Tem nao\n"
     ]
    }
   ],
   "source": [
    "if 'paralelepipedo' in 'gato':\n",
    "    print('Loucura')\n",
    "else:\n",
    "    print('Tem nao')"
   ]
  },
  {
   "cell_type": "code",
   "execution_count": 50,
   "id": "e6120511",
   "metadata": {},
   "outputs": [
    {
     "name": "stdout",
     "output_type": "stream",
     "text": [
      "Apenas a segunda condicao e verdadeira\n"
     ]
    }
   ],
   "source": [
    "Cond_1 = 'paralelepipedo' in 'gato'\n",
    "Cond_2 = zero==0\n",
    "\n",
    "if Cond_1 and Cond_2:\n",
    "    print('Ambas as condicoes sao verdadeiras!')\n",
    "elif Cond_1:\n",
    "    print('Apenas a primeira condicao e verdadeira!')\n",
    "elif Cond_2:\n",
    "    print('Apenas a segunda condicao e verdadeira')\n",
    "else:\n",
    "    print('Nenhuma das condicoes e verdadeira!')"
   ]
  },
  {
   "cell_type": "code",
   "execution_count": 52,
   "id": "36d96027",
   "metadata": {},
   "outputs": [
    {
     "name": "stdout",
     "output_type": "stream",
     "text": [
      "Ambos os numeros positivos e negativos = True. Mas Zero = False.\n"
     ]
    }
   ],
   "source": [
    "zero = 0\n",
    "positivo = 1\n",
    "negativo = -1\n",
    "\n",
    "if zero and positivo and negativo:\n",
    "    print('Todos os numeros dao \"True\"!')\n",
    "elif zero and positivo:\n",
    "    print('Zero e Positivo = True, Negativo = False')\n",
    "elif zero and negativo:\n",
    "    print('Zero e negativo = True, Positivo = False')\n",
    "elif zero:\n",
    "    print('Apenas Zero = True')\n",
    "elif positivo and negativo:\n",
    "    print('Ambos os numeros positivos e negativos = True. Mas Zero = False.')\n",
    "elif positivo:\n",
    "    print('Apenas os positivos = True')\n",
    "elif negativo:\n",
    "    print('Apenas os negativos = True')\n",
    "else: \n",
    "    print('Todos retornam False!')"
   ]
  }
 ],
 "metadata": {
  "kernelspec": {
   "display_name": "Python 3",
   "language": "python",
   "name": "python3"
  },
  "language_info": {
   "codemirror_mode": {
    "name": "ipython",
    "version": 3
   },
   "file_extension": ".py",
   "mimetype": "text/x-python",
   "name": "python",
   "nbconvert_exporter": "python",
   "pygments_lexer": "ipython3",
   "version": "3.13.7"
  }
 },
 "nbformat": 4,
 "nbformat_minor": 5
}
