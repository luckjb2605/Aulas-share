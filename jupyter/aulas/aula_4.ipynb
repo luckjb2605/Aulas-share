{
 "cells": [
  {
   "cell_type": "markdown",
   "id": "a22c4054",
   "metadata": {},
   "source": [
    "# Numpy!"
   ]
  },
  {
   "cell_type": "code",
   "execution_count": 82,
   "id": "6b42f936",
   "metadata": {},
   "outputs": [],
   "source": [
    "import numpy as np\n",
    "import matplotlib.pyplot as plt"
   ]
  },
  {
   "cell_type": "markdown",
   "id": "efb4fccf",
   "metadata": {},
   "source": [
    "### Criando Arrays"
   ]
  },
  {
   "cell_type": "code",
   "execution_count": 83,
   "id": "dd6e47e5",
   "metadata": {},
   "outputs": [],
   "source": [
    "a1 = np.array([1, 3, 5, 7])\n",
    "a2 = np.zeros(10)\n",
    "a3 = np.ones(5)\n",
    "a4 = np.random.random(10) #todos os numeros entre 0.0 e 1.0 (tirando o 1.0) tem a mesma chance de aparecer.\n",
    "a5 = np.random.randn(5) #distribuicao gaussiana -> A probabilidade segue uma simetria, com a media dos valores no meio."
   ]
  },
  {
   "cell_type": "code",
   "execution_count": 84,
   "id": "b3b9751b",
   "metadata": {},
   "outputs": [
    {
     "name": "stdout",
     "output_type": "stream",
     "text": [
      "\n",
      "[1 3 5 7]\n",
      "\n",
      "[0. 0. 0. 0. 0. 0. 0. 0. 0. 0.]\n",
      "\n",
      "[1. 1. 1. 1. 1.]\n",
      "\n",
      "[0.6  0.83 0.04 0.89 0.04 0.23 0.79 0.32 0.75 0.46]\n",
      "\n",
      "[ 1.56 -0.24 -1.81 -0.46  0.81]\n"
     ]
    }
   ],
   "source": [
    "for a in [a1, a2, a3, a4, a5]:\n",
    "   print()\n",
    "   print(a.round(5), sep='\\n')\n",
    "\n",
    "# Ou: print(a1, a2, a3, a4, a5, sep='\\n')"
   ]
  },
  {
   "cell_type": "markdown",
   "id": "affd4f60",
   "metadata": {},
   "source": [
    "##### Mais comums:"
   ]
  },
  {
   "cell_type": "code",
   "execution_count": 85,
   "id": "b8ce172e",
   "metadata": {},
   "outputs": [
    {
     "name": "stdout",
     "output_type": "stream",
     "text": [
      "\n",
      "Conjuntos sem espacamento/partes definidas:\n",
      "\n",
      "[ 1.   1.2  1.4  1.6  1.7  1.9  2.1  2.3  2.5  2.7  2.8  3.   3.2  3.4\n",
      "  3.6  3.8  3.9  4.1  4.3  4.5  4.7  4.9  5.   5.2  5.4  5.6  5.8  6.\n",
      "  6.1  6.3  6.5  6.7  6.9  7.1  7.2  7.4  7.6  7.8  8.   8.2  8.3  8.5\n",
      "  8.7  8.9  9.1  9.3  9.4  9.6  9.8 10. ]\n",
      "\n",
      "[1 2 3 4 5 6 7 8 9]\n",
      "\n",
      "Conjuntos com espacamento/partes definidas:\n",
      "\n",
      "[ 0.   0.1  0.2  0.3  0.4  0.5  0.6  0.7  0.8  0.9  1.   1.1  1.2  1.3\n",
      "  1.4  1.5  1.6  1.7  1.8  1.9  2.   2.1  2.2  2.3  2.4  2.5  2.6  2.7\n",
      "  2.8  2.9  3.   3.1  3.2  3.3  3.4  3.5  3.6  3.7  3.8  3.9  4.   4.1\n",
      "  4.2  4.3  4.4  4.5  4.6  4.7  4.8  4.9  5.1  5.2  5.3  5.4  5.5  5.6\n",
      "  5.7  5.8  5.9  6.   6.1  6.2  6.3  6.4  6.5  6.6  6.7  6.8  6.9  7.\n",
      "  7.1  7.2  7.3  7.4  7.5  7.6  7.7  7.8  7.9  8.   8.1  8.2  8.3  8.4\n",
      "  8.5  8.6  8.7  8.8  8.9  9.   9.1  9.2  9.3  9.4  9.5  9.6  9.7  9.8\n",
      "  9.9 10. ]\n",
      "\n",
      "[1 3 5 7 9]\n"
     ]
    }
   ],
   "source": [
    "a1 = np.linspace(1, 10) #Divide o caminho entre n1 e n2 igualmente em x partes\n",
    "a2 = np.arange(1, 10) #Divide o caminho entre n1 e n2 usando espacamento x\n",
    "\n",
    "b1 = np.linspace(0, 10, 100)\n",
    "b2 = np.arange(1, 10, 2)\n",
    "\n",
    "arrays = {'x1':a1, 'x2':a2, 'y1':b1, 'y2':b2} #usando dicionario (dict)\n",
    "\n",
    "for nome, arr in arrays.items():\n",
    "    if 'x1' in nome:\n",
    "        print()\n",
    "        print('Conjuntos sem espacamento/partes definidas:')\n",
    "    if 'x' in nome:\n",
    "        print()\n",
    "        print(arr.round(1))\n",
    "    if 'y1' in nome:\n",
    "        print()\n",
    "        print('Conjuntos com espacamento/partes definidas:')\n",
    "    if 'y' in nome:\n",
    "        print()\n",
    "        print(arr.round(1))\n",
    "\n",
    "#Obviamente e muita overkill, mas so para treinar o dict. Como e possivel ver, a primeira variavel e atribuida a chave e\n",
    "#a segunda ao valor. \n",
    "#exemplo: \n",
    "\n",
    "#lucas = {'nome':'lucas', 'idade':17, 'ocupacao':'estudante'}\n",
    "\n",
    "#for chave, valor in lucas.items():\n",
    "#   print(f'Chave: {chave}, Valor: {valor}')\n",
    "\n",
    "#Caso queira apenas a chave, ou, apenas o valor, use lucas.keys(), ou lucas.values().\n",
    "\n",
    "#Alternativamente, se nao quiser chamar nenhum desses comandos, a variavel sera atribuida a chave. Exemplo:\n",
    "\n",
    "#for chave in lucas:\n",
    "#   valor = lucas[chave]\n",
    "#   print(f'Chave: {chave}, Valor: {valor}')"
   ]
  },
  {
   "cell_type": "code",
   "execution_count": 86,
   "id": "ad397ffc",
   "metadata": {},
   "outputs": [
    {
     "name": "stdout",
     "output_type": "stream",
     "text": [
      "\n",
      "nome : lucas\n",
      "idade : 17\n",
      "ocupacao : estudante\n",
      "\n",
      "Segunda alternativa:\n",
      "\n",
      "nome : lucas\n",
      "idade : 17\n",
      "ocupacao : estudante\n"
     ]
    }
   ],
   "source": [
    "lucas = {'nome':'lucas', 'idade':17, 'ocupacao':'estudante'}\n",
    "\n",
    "print()\n",
    "for chave, valor in lucas.items():\n",
    "   print(f'{chave} : {valor}')\n",
    "\n",
    "print()\n",
    "print('Segunda alternativa:')\n",
    "print()\n",
    "\n",
    "for chave in lucas:\n",
    "   valor = lucas[chave]\n",
    "   print(f'{chave} : {valor}')"
   ]
  },
  {
   "cell_type": "markdown",
   "id": "b20456c6",
   "metadata": {},
   "source": [
    "### Operacoes com Arrays"
   ]
  },
  {
   "cell_type": "code",
   "execution_count": 87,
   "id": "6bbb5f75",
   "metadata": {},
   "outputs": [
    {
     "name": "stdout",
     "output_type": "stream",
     "text": [
      "\n",
      "Array: [1 3 5 7 9]\n",
      "\n",
      "Each value multiplied by 2: [ 2  6 10 14 18]\n",
      "\n",
      "1 divided by each value: [1.   0.33 0.2  0.14 0.11]\n",
      "\n",
      "Square of each value: [ 1  9 25 49 81]\n"
     ]
    }
   ],
   "source": [
    "print()\n",
    "print(f'Array: {b2}', f'Each value multiplied by 2: {b2*2}', f'1 divided by each value: {1/b2}', \n",
    "      f'Square of each value: {b2**2}', sep='\\n\\n')"
   ]
  },
  {
   "cell_type": "code",
   "execution_count": 88,
   "id": "cffd50d2",
   "metadata": {},
   "outputs": [
    {
     "name": "stdout",
     "output_type": "stream",
     "text": [
      "\n",
      "Array: [1 3 5 7 9]\n",
      "\n",
      "Check if values are greater than four: [False False  True  True  True]\n"
     ]
    }
   ],
   "source": [
    "print()\n",
    "print(f'Array: {b2}', f'Check if values are greater than four: {b2>4}', sep='\\n\\n')"
   ]
  },
  {
   "cell_type": "code",
   "execution_count": 89,
   "id": "0ef59986",
   "metadata": {},
   "outputs": [
    {
     "data": {
      "text/plain": [
       "[<matplotlib.lines.Line2D at 0x1b5bbc12e90>]"
      ]
     },
     "execution_count": 89,
     "metadata": {},
     "output_type": "execute_result"
    },
    {
     "data": {
      "image/png": "[encoded data removed]",
      "text/plain": [
       "<Figure size 640x480 with 1 Axes>"
      ]
     },
     "metadata": {},
     "output_type": "display_data"
    }
   ],
   "source": [
    "import matplotlib.pyplot as plt\n",
    "\n",
    "x = np.linspace(-1.5,1.5,10000)\n",
    "y = x**2\n",
    "y_2 = abs(x)**(1/2)\n",
    "\n",
    "plt.plot(x,y)\n",
    "plt.plot(x,y_2)"
   ]
  },
  {
   "cell_type": "code",
   "execution_count": 90,
   "id": "4f68adc6",
   "metadata": {},
   "outputs": [
    {
     "data": {
      "text/plain": [
       "(array([2., 0., 1., 1., 1., 0., 1., 0., 2., 2.]),\n",
       " array([0.04, 0.12, 0.21, 0.29, 0.38, 0.47, 0.55, 0.64, 0.72, 0.81, 0.89]),\n",
       " <BarContainer object of 10 artists>)"
      ]
     },
     "execution_count": 90,
     "metadata": {},
     "output_type": "execute_result"
    },
    {
     "data": {
      "image/png": "[encoded data removed]",
      "text/plain": [
       "<Figure size 640x480 with 1 Axes>"
      ]
     },
     "metadata": {},
     "output_type": "display_data"
    }
   ],
   "source": [
    "plt.hist(a4) #histogram"
   ]
  },
  {
   "cell_type": "code",
   "execution_count": 91,
   "id": "4a787b67",
   "metadata": {},
   "outputs": [
    {
     "data": {
      "text/plain": [
       "[<matplotlib.lines.Line2D at 0x1b5bbdcfd90>]"
      ]
     },
     "execution_count": 91,
     "metadata": {},
     "output_type": "execute_result"
    },
    {
     "data": {
      "image/png": "[encoded data removed]",
      "text/plain": [
       "<Figure size 640x480 with 1 Axes>"
      ]
     },
     "metadata": {},
     "output_type": "display_data"
    }
   ],
   "source": [
    "def f(x):\n",
    "    return x**2 * np.sin(x) / np.exp(-x)\n",
    "\n",
    "x = np.linspace(0,10,100)\n",
    "y = f(x)\n",
    "\n",
    "plt.plot(x,y)"
   ]
  },
  {
   "cell_type": "markdown",
   "id": "1ed48780",
   "metadata": {},
   "source": [
    "##### Slicing"
   ]
  },
  {
   "cell_type": "code",
   "execution_count": 92,
   "id": "dbc31dbe",
   "metadata": {},
   "outputs": [
    {
     "name": "stdout",
     "output_type": "stream",
     "text": [
      "\n",
      "[ 6  8 10]\n",
      "\n",
      "[2 4 6]\n",
      "\n",
      "[6]\n"
     ]
    }
   ],
   "source": [
    "a1 = np.array([2, 4, 6, 8, 10])\n",
    "\n",
    "print()\n",
    "print(a1[2:])       #Da esquerda pra direita comecando no 2\n",
    "print()\n",
    "print(a1[:-2])      #Da esquerda pra direita comecando apos os dois ultimos\n",
    "print()\n",
    "print(a1[2:-2])     #Igual ou maior que seis, mas menor que 8.\n",
    "\n",
    "#O limite debaixo e incluido, mas o de cima nao. \n",
    "# Quando contando da direita pra esquerda, o primeiro termo e 1, e nao 0."
   ]
  },
  {
   "cell_type": "code",
   "execution_count": 93,
   "id": "c3bd2b6d",
   "metadata": {},
   "outputs": [
    {
     "name": "stdout",
     "output_type": "stream",
     "text": [
      "[2 4]\n"
     ]
    }
   ],
   "source": [
    "print(a1[0:2])"
   ]
  },
  {
   "cell_type": "markdown",
   "id": "37a21cf5",
   "metadata": {},
   "source": [
    "##### Experimentos"
   ]
  },
  {
   "cell_type": "code",
   "execution_count": 94,
   "id": "711095fd",
   "metadata": {},
   "outputs": [
    {
     "name": "stdout",
     "output_type": "stream",
     "text": [
      "\n",
      "[False False  True  True  True]\n",
      "\n",
      "[ 6  8 10]\n"
     ]
    }
   ],
   "source": [
    "print()\n",
    "print(a1>4)\n",
    "print ()\n",
    "print(a1[a1>4])     # Apenas printa os numeros que sao maiores que 4."
   ]
  },
  {
   "cell_type": "code",
   "execution_count": 95,
   "id": "3658a590",
   "metadata": {},
   "outputs": [
    {
     "data": {
      "text/plain": [
       "'t'"
      ]
     },
     "execution_count": 95,
     "metadata": {},
     "output_type": "execute_result"
    }
   ],
   "source": [
    "f = lambda s: s[0]\n",
    "f('teste')\n",
    "\n",
    "#Retorna a primeira letra"
   ]
  },
  {
   "cell_type": "code",
   "execution_count": 96,
   "id": "98e83f9a",
   "metadata": {},
   "outputs": [
    {
     "name": "stdout",
     "output_type": "stream",
     "text": [
      "\n",
      "['J' 'L' 'M' 'J' 'B' 'J']\n",
      "\n",
      "[ True False False  True False  True]\n",
      "\n",
      "['Josh' 'Jim' 'John']\n"
     ]
    }
   ],
   "source": [
    "Nomes = np.array(['Josh', 'Luke', 'Mark', 'Jim', 'Blake', 'John'])\n",
    "\n",
    "print()\n",
    "print(np.vectorize(lambda s:s[0])(Nomes))      #Age como 'for'. Para cada item de 'nomes', aplicara lambda s:s[0]\n",
    "\n",
    "print()\n",
    "print(np.vectorize(lambda s:s[0])(Nomes)=='J') #Checa se a primeira letra do nome e 'J'\n",
    "\n",
    "Nomes_com_primeira_letra_J = np.vectorize(lambda s:s[0])(Nomes)=='J'\n",
    "\n",
    "print()\n",
    "print(Nomes[Nomes_com_primeira_letra_J])"
   ]
  },
  {
   "cell_type": "code",
   "execution_count": 97,
   "id": "40ffb7b4",
   "metadata": {},
   "outputs": [
    {
     "name": "stdout",
     "output_type": "stream",
     "text": [
      "\n",
      "[ 2  4  6  8 10]\n",
      "\n",
      "[2 0 2 0 2]\n",
      "\n",
      "[False  True False  True False]\n",
      "\n",
      "[4 8]\n"
     ]
    }
   ],
   "source": [
    "print()\n",
    "print(a1)\n",
    "\n",
    "print()\n",
    "print(a1%4)                 #Checando o resto da divisao por 4 dos itens da array a1\n",
    "\n",
    "print()\n",
    "print(a1%4==0)              #Se for divisivel por 4, o resto e zero.\n",
    "\n",
    "multiplos_4 = a1%4 == 0\n",
    "\n",
    "print()\n",
    "print(a1[multiplos_4])      #Apenas os itens da array que sao divisiveis por 4."
   ]
  },
  {
   "cell_type": "markdown",
   "id": "c72f3f8f",
   "metadata": {},
   "source": [
    "### Aplicacoes"
   ]
  },
  {
   "cell_type": "code",
   "execution_count": 98,
   "id": "d9277b9b",
   "metadata": {},
   "outputs": [
    {
     "name": "stdout",
     "output_type": "stream",
     "text": [
      "\n",
      "[ 9.41 11.19  8.42 ...  9.1  11.59 11.53]\n",
      "\n",
      "9.981912403736148\n",
      "\n",
      "2.0161702981725407\n"
     ]
    }
   ],
   "source": [
    "a1 = 2 * np.random.randn(10000) + 10     # Oque geralmente possuia media 0 e variacao 1, passa a possuir uma variacao\n",
    "                                         # maior (2) e a media e deslocada para 10. \n",
    "\n",
    "print()                                  # Ira mostrar os 3 primeiros e 3 ultimos termos\n",
    "print(a1)\n",
    "\n",
    "print()\n",
    "print(np.mean(a1))                       # Onde esta a nova media? Deve ser proximo de 10.\n",
    "\n",
    "print()\n",
    "print(np.std(a1))                        # Qual o novo desvio padrao? Deve ser proximo de 2 (2 a mais ou a menos q 10)"
   ]
  },
  {
   "cell_type": "code",
   "execution_count": 99,
   "id": "ae67eb88",
   "metadata": {},
   "outputs": [
    {
     "name": "stdout",
     "output_type": "stream",
     "text": [
      "\n",
      "11.652461963645145\n",
      "\n",
      "3.1538678652853562\n",
      "\n",
      "17.796816833984717\n",
      "\n",
      "99819.12403736147\n"
     ]
    }
   ],
   "source": [
    "print()\n",
    "print(np.percentile(a1, 80))            #Que numero e maior que 80% dos numeros na array?\n",
    "\n",
    "print()\n",
    "print(np.min(a1))\n",
    "\n",
    "print()\n",
    "print(np.max(a1))\n",
    "\n",
    "print()\n",
    "print(np.sum(a1))"
   ]
  },
  {
   "cell_type": "code",
   "execution_count": 100,
   "id": "a6157ab8",
   "metadata": {},
   "outputs": [
    {
     "data": {
      "text/plain": [
       "(array([  32.,  215.,  909., 1996., 2795., 2402., 1199.,  367.,   78.,\n",
       "           7.]),\n",
       " array([ 3.15,  4.62,  6.08,  7.55,  9.01, 10.48, 11.94, 13.4 , 14.87,\n",
       "        16.33, 17.8 ]),\n",
       " <BarContainer object of 10 artists>)"
      ]
     },
     "execution_count": 100,
     "metadata": {},
     "output_type": "execute_result"
    },
    {
     "data": {
      "image/png": "[encoded data removed]",
      "text/plain": [
       "<Figure size 640x480 with 1 Axes>"
      ]
     },
     "metadata": {},
     "output_type": "display_data"
    }
   ],
   "source": [
    "np.histogram(a1)\n",
    "\n",
    "plt.hist(a1)"
   ]
  },
  {
   "cell_type": "markdown",
   "id": "2229618a",
   "metadata": {},
   "source": [
    "##### Qual a chance de ser igual/maior/menor que um numero?\n",
    "\n",
    "Basta usar a formula fundamental da probabilidade:  \n",
    "\n",
    "\n",
    "$$\n",
    "\\text{Probabilidade} = \\frac{\\text{Casos Favoraveis}}{\\text{Casos Possiveis}} = \\frac{\\text{np.sum(arr=target number)}}{\\text{len(arr)}}\n",
    "$$"
   ]
  },
  {
   "cell_type": "code",
   "execution_count": 101,
   "id": "27a7c547",
   "metadata": {},
   "outputs": [],
   "source": [
    "a1 = 2 * np.random.randn(10000) + 10"
   ]
  },
  {
   "cell_type": "code",
   "execution_count": 102,
   "id": "870a6f40",
   "metadata": {},
   "outputs": [
    {
     "name": "stdout",
     "output_type": "stream",
     "text": [
      "\n",
      "A chance do numero ser menor que 5 e de 0.65%\n",
      "\n",
      "A chance do numero ser menor que 5 e de 0.65%\n",
      "\n",
      "Mas ainda assim, o menor numero e 2.8617971302678917\n",
      "\n",
      "Sabendo que a chance do numero ser menor que 2 e 0.0\n",
      "\n",
      "1 em 10000. Considerando que a lista tem 10000 itens, esse e o unico numero menor que 2.\n"
     ]
    }
   ],
   "source": [
    "print()\n",
    "print(f'A chance do numero ser menor que 5 e de {(np.sum(a1<=5) / len(a1) * 100)}%')\n",
    "\n",
    "#Outro jeito:\n",
    "\n",
    "print()\n",
    "print(f'A chance do numero ser menor que 5 e de {(np.mean(a1<5) * 100)}%')\n",
    "\n",
    "print()\n",
    "print(f'Mas ainda assim, o menor numero e {np.min(a1)}')\n",
    "\n",
    "print()\n",
    "print(f'Sabendo que a chance do numero ser menor que 2 e {(np.mean(a1<2))}')\n",
    "\n",
    "print()\n",
    "print('1 em 10000. Considerando que a lista tem 10000 itens, esse e o unico numero menor que 2.')"
   ]
  },
  {
   "cell_type": "markdown",
   "id": "5546071c",
   "metadata": {},
   "source": [
    "Calculo"
   ]
  },
  {
   "cell_type": "code",
   "execution_count": 103,
   "id": "d0fc64f7",
   "metadata": {},
   "outputs": [
    {
     "name": "stdout",
     "output_type": "stream",
     "text": [
      "\n",
      "[ 1  3  6 10]\n",
      "\n",
      "[   1.    3.    6.   10.   15.   21.   28.   36.   45.   55.   66.   78.\n",
      "   91.  105.  120.  136.  153.  171.  190.  210.  231.  253.  276.  300.\n",
      "  325.  351.  378.  406.  435.  465.  496.  528.  561.  595.  630.  666.\n",
      "  703.  741.  780.  820.  861.  903.  946.  990. 1035. 1081. 1128. 1176.\n",
      " 1225. 1275. 1326. 1378. 1431. 1485. 1540. 1596. 1653. 1711. 1770. 1830.\n",
      " 1891. 1953. 2016. 2080. 2145. 2211. 2278. 2346. 2415. 2485. 2556. 2628.\n",
      " 2701. 2775. 2850. 2926. 3003. 3081. 3160. 3240. 3321. 3403. 3486. 3570.\n",
      " 3655. 3741. 3828. 3916. 4005. 4095. 4186. 4278. 4371. 4465. 4560. 4656.\n",
      " 4753. 4851. 4950. 5050.]\n"
     ]
    }
   ],
   "source": [
    "# np.cumsum = cumulative sum (soma de todos os itens de uma array ate aquele item)\n",
    "# exemplo:\n",
    "\n",
    "arr = np.array([1, 2, 3, 4])\n",
    "cumulative_sum = np.cumsum(arr)\n",
    "\n",
    "print('', cumulative_sum, sep='\\n')\n",
    "\n",
    "#==================================================================================\n",
    "\n",
    "arr2 = np.linspace(1, 100, 100)\n",
    "cumsum2 = np.cumsum(arr2)\n",
    "\n",
    "np.set_printoptions(precision=2, suppress=True) # Precision -> Casas decimais ; surpess -> Notacao Cientifica\n",
    "\n",
    "print('', cumsum2, sep='\\n')"
   ]
  },
  {
   "cell_type": "markdown",
   "id": "137ac9f5",
   "metadata": {},
   "source": [
    "Porque (x[1] - x[0]) pode representar dx?\n",
    "\n",
    "$$\n",
    "\\text{dx} = \\frac{10 - 1}{100 - 1} = \\frac{9}{99} \\approx 0.0909\n",
    "$$\n",
    "\n",
    "E essa diferenca e constante para todos os termos da array"
   ]
  },
  {
   "cell_type": "code",
   "execution_count": 104,
   "id": "d6999255",
   "metadata": {},
   "outputs": [],
   "source": [
    "x = np.linspace(1, 10, 100)\n",
    "y = 1/(x**2) + np.sin(x)\n",
    "\n",
    "dx = x[1] - x[0]\n",
    "\n",
    "dydx = np.gradient(y, x)\n",
    "y_int = np.cumsum(y) * dx\n",
    "\n",
    "raizes_dydx = x[1:][dydx[1:] * dydx[:-1] < 0]"
   ]
  },
  {
   "cell_type": "code",
   "execution_count": 106,
   "id": "a806586d",
   "metadata": {},
   "outputs": [
    {
     "data": {
      "text/plain": [
       "<matplotlib.legend.Legend at 0x1b5c05e4050>"
      ]
     },
     "execution_count": 106,
     "metadata": {},
     "output_type": "execute_result"
    },
    {
     "data": {
      "image/png": "[encoded data removed]",
      "text/plain": [
       "<Figure size 640x480 with 1 Axes>"
      ]
     },
     "metadata": {},
     "output_type": "display_data"
    }
   ],
   "source": [
    "plt.plot(x, y, label = 'f(x) = 1/(x^2) + sin(x)')\n",
    "plt.plot(x, dydx, label = 'dy/dx')\n",
    "plt.plot(x, y_int, label = 'Int(f(x))')\n",
    "plt.vlines(raizes_dydx, -2, 6, 'grey', 'dashed')\n",
    "\n",
    "for i in range(len(x) - 1):\n",
    "    plt.bar(x[i], y[i], width = dx, align = 'edge', alpha = 0.4, edgecolor = 'k')\n",
    "\n",
    "plt.subplot().set_ybound(-2, 3)\n",
    "plt.legend()"
   ]
  },
  {
   "cell_type": "code",
   "execution_count": null,
   "id": "1699c7d9",
   "metadata": {},
   "outputs": [],
   "source": []
  }
 ],
 "metadata": {
  "kernelspec": {
   "display_name": "Python 3",
   "language": "python",
   "name": "python3"
  },
  "language_info": {
   "codemirror_mode": {
    "name": "ipython",
    "version": 3
   },
   "file_extension": ".py",
   "mimetype": "text/x-python",
   "name": "python",
   "nbconvert_exporter": "python",
   "pygments_lexer": "ipython3",
   "version": "3.13.7"
  }
 },
 "nbformat": 4,
 "nbformat_minor": 5
}
